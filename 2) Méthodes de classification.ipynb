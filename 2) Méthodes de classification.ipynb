{
 "cells": [
  {
   "cell_type": "markdown",
   "id": "f54d0ab9",
   "metadata": {},
   "source": [
    "# 4 Méthodes de classification\n"
   ]
  },
  {
   "cell_type": "markdown",
   "id": "e3cb2fa4",
   "metadata": {},
   "source": [
    "## 4-1) Premiere Exploration"
   ]
  },
  {
   "cell_type": "code",
   "execution_count": 24,
   "id": "2a17db5a",
   "metadata": {},
   "outputs": [],
   "source": [
    "from sklearn.model_selection import train_test_split, GridSearchCV\n",
    "from sklearn.preprocessing import StandardScaler, OneHotEncoder\n",
    "from sklearn.compose import ColumnTransformer\n",
    "from sklearn.pipeline import Pipeline\n",
    "from sklearn.svm import SVC\n",
    "from sklearn.neighbors import KNeighborsClassifier\n",
    "from sklearn.naive_bayes import GaussianNB\n",
    "from sklearn.ensemble import RandomForestClassifier\n",
    "from sklearn.metrics import classification_report"
   ]
  },
  {
   "cell_type": "code",
   "execution_count": 1,
   "id": "ec5c9058",
   "metadata": {},
   "outputs": [
    {
     "data": {
      "text/html": [
       "<div>\n",
       "<style scoped>\n",
       "    .dataframe tbody tr th:only-of-type {\n",
       "        vertical-align: middle;\n",
       "    }\n",
       "\n",
       "    .dataframe tbody tr th {\n",
       "        vertical-align: top;\n",
       "    }\n",
       "\n",
       "    .dataframe thead th {\n",
       "        text-align: right;\n",
       "    }\n",
       "</style>\n",
       "<table border=\"1\" class=\"dataframe\">\n",
       "  <thead>\n",
       "    <tr style=\"text-align: right;\">\n",
       "      <th></th>\n",
       "      <th>id</th>\n",
       "      <th>name</th>\n",
       "      <th>category</th>\n",
       "      <th>subcategory</th>\n",
       "      <th>country</th>\n",
       "      <th>sex</th>\n",
       "      <th>age</th>\n",
       "      <th>start_date</th>\n",
       "      <th>end_date</th>\n",
       "      <th>currency</th>\n",
       "      <th>goal</th>\n",
       "      <th>pledged</th>\n",
       "      <th>backers</th>\n",
       "      <th>state</th>\n",
       "    </tr>\n",
       "  </thead>\n",
       "  <tbody>\n",
       "    <tr>\n",
       "      <th>0</th>\n",
       "      <td>149450711</td>\n",
       "      <td>Abilities Rock</td>\n",
       "      <td>Art</td>\n",
       "      <td>Art</td>\n",
       "      <td>US</td>\n",
       "      <td>male</td>\n",
       "      <td>26</td>\n",
       "      <td>2015-11-17 19:37:50</td>\n",
       "      <td>2015-12-17 19:37:50</td>\n",
       "      <td>USD</td>\n",
       "      <td>10000.0</td>\n",
       "      <td>0.0</td>\n",
       "      <td>0</td>\n",
       "      <td>failed</td>\n",
       "    </tr>\n",
       "    <tr>\n",
       "      <th>1</th>\n",
       "      <td>356418410</td>\n",
       "      <td>De'VIA Elders Reunion</td>\n",
       "      <td>Art</td>\n",
       "      <td>Art</td>\n",
       "      <td>US</td>\n",
       "      <td>female</td>\n",
       "      <td>26</td>\n",
       "      <td>2016-03-21 22:18:52</td>\n",
       "      <td>2016-04-23 04:00:00</td>\n",
       "      <td>USD</td>\n",
       "      <td>7500.0</td>\n",
       "      <td>958.0</td>\n",
       "      <td>15</td>\n",
       "      <td>failed</td>\n",
       "    </tr>\n",
       "    <tr>\n",
       "      <th>2</th>\n",
       "      <td>412253775</td>\n",
       "      <td>Help C.B. Farr make a documentary about becomi...</td>\n",
       "      <td>Art</td>\n",
       "      <td>Art</td>\n",
       "      <td>US</td>\n",
       "      <td>female</td>\n",
       "      <td>28</td>\n",
       "      <td>2013-06-05 08:30:31</td>\n",
       "      <td>2013-07-05 08:30:31</td>\n",
       "      <td>USD</td>\n",
       "      <td>20000.0</td>\n",
       "      <td>0.0</td>\n",
       "      <td>0</td>\n",
       "      <td>failed</td>\n",
       "    </tr>\n",
       "    <tr>\n",
       "      <th>3</th>\n",
       "      <td>477821027</td>\n",
       "      <td>The London Aesthetifest</td>\n",
       "      <td>Art</td>\n",
       "      <td>Art</td>\n",
       "      <td>US</td>\n",
       "      <td>female</td>\n",
       "      <td>27</td>\n",
       "      <td>2014-06-24 19:49:35</td>\n",
       "      <td>2014-07-15 04:05:00</td>\n",
       "      <td>USD</td>\n",
       "      <td>7800.0</td>\n",
       "      <td>1000.0</td>\n",
       "      <td>15</td>\n",
       "      <td>failed</td>\n",
       "    </tr>\n",
       "    <tr>\n",
       "      <th>4</th>\n",
       "      <td>350951514</td>\n",
       "      <td>Hobo Nickels across the nation</td>\n",
       "      <td>Art</td>\n",
       "      <td>Art</td>\n",
       "      <td>US</td>\n",
       "      <td>male</td>\n",
       "      <td>22</td>\n",
       "      <td>2015-10-02 16:00:42</td>\n",
       "      <td>2015-11-01 16:00:42</td>\n",
       "      <td>USD</td>\n",
       "      <td>2621.0</td>\n",
       "      <td>392.0</td>\n",
       "      <td>6</td>\n",
       "      <td>failed</td>\n",
       "    </tr>\n",
       "  </tbody>\n",
       "</table>\n",
       "</div>"
      ],
      "text/plain": [
       "          id                                               name category  \\\n",
       "0  149450711                                     Abilities Rock      Art   \n",
       "1  356418410                              De'VIA Elders Reunion      Art   \n",
       "2  412253775  Help C.B. Farr make a documentary about becomi...      Art   \n",
       "3  477821027                            The London Aesthetifest      Art   \n",
       "4  350951514                     Hobo Nickels across the nation      Art   \n",
       "\n",
       "  subcategory country     sex  age           start_date             end_date  \\\n",
       "0         Art      US    male   26  2015-11-17 19:37:50  2015-12-17 19:37:50   \n",
       "1         Art      US  female   26  2016-03-21 22:18:52  2016-04-23 04:00:00   \n",
       "2         Art      US  female   28  2013-06-05 08:30:31  2013-07-05 08:30:31   \n",
       "3         Art      US  female   27  2014-06-24 19:49:35  2014-07-15 04:05:00   \n",
       "4         Art      US    male   22  2015-10-02 16:00:42  2015-11-01 16:00:42   \n",
       "\n",
       "  currency     goal  pledged  backers   state  \n",
       "0      USD  10000.0      0.0        0  failed  \n",
       "1      USD   7500.0    958.0       15  failed  \n",
       "2      USD  20000.0      0.0        0  failed  \n",
       "3      USD   7800.0   1000.0       15  failed  \n",
       "4      USD   2621.0    392.0        6  failed  "
      ]
     },
     "execution_count": 1,
     "metadata": {},
     "output_type": "execute_result"
    }
   ],
   "source": [
    "import pandas as pd\n",
    "donnees_kickstarter = pd.read_csv('donnees_kickstarter/ks-projects.csv',delimiter=',',encoding='latin1')\n",
    "donnees_kickstarter.head()"
   ]
  },
  {
   "cell_type": "code",
   "execution_count": 2,
   "id": "c66bde25",
   "metadata": {},
   "outputs": [
    {
     "data": {
      "text/html": [
       "<div>\n",
       "<style scoped>\n",
       "    .dataframe tbody tr th:only-of-type {\n",
       "        vertical-align: middle;\n",
       "    }\n",
       "\n",
       "    .dataframe tbody tr th {\n",
       "        vertical-align: top;\n",
       "    }\n",
       "\n",
       "    .dataframe thead th {\n",
       "        text-align: right;\n",
       "    }\n",
       "</style>\n",
       "<table border=\"1\" class=\"dataframe\">\n",
       "  <thead>\n",
       "    <tr style=\"text-align: right;\">\n",
       "      <th></th>\n",
       "      <th>category</th>\n",
       "      <th>subcategory</th>\n",
       "      <th>country</th>\n",
       "      <th>sex</th>\n",
       "      <th>age</th>\n",
       "      <th>currency</th>\n",
       "      <th>goal</th>\n",
       "      <th>state</th>\n",
       "    </tr>\n",
       "  </thead>\n",
       "  <tbody>\n",
       "    <tr>\n",
       "      <th>0</th>\n",
       "      <td>Art</td>\n",
       "      <td>Art</td>\n",
       "      <td>US</td>\n",
       "      <td>male</td>\n",
       "      <td>26</td>\n",
       "      <td>USD</td>\n",
       "      <td>10000.0</td>\n",
       "      <td>failed</td>\n",
       "    </tr>\n",
       "    <tr>\n",
       "      <th>1</th>\n",
       "      <td>Art</td>\n",
       "      <td>Art</td>\n",
       "      <td>US</td>\n",
       "      <td>female</td>\n",
       "      <td>26</td>\n",
       "      <td>USD</td>\n",
       "      <td>7500.0</td>\n",
       "      <td>failed</td>\n",
       "    </tr>\n",
       "    <tr>\n",
       "      <th>2</th>\n",
       "      <td>Art</td>\n",
       "      <td>Art</td>\n",
       "      <td>US</td>\n",
       "      <td>female</td>\n",
       "      <td>28</td>\n",
       "      <td>USD</td>\n",
       "      <td>20000.0</td>\n",
       "      <td>failed</td>\n",
       "    </tr>\n",
       "    <tr>\n",
       "      <th>3</th>\n",
       "      <td>Art</td>\n",
       "      <td>Art</td>\n",
       "      <td>US</td>\n",
       "      <td>female</td>\n",
       "      <td>27</td>\n",
       "      <td>USD</td>\n",
       "      <td>7800.0</td>\n",
       "      <td>failed</td>\n",
       "    </tr>\n",
       "    <tr>\n",
       "      <th>4</th>\n",
       "      <td>Art</td>\n",
       "      <td>Art</td>\n",
       "      <td>US</td>\n",
       "      <td>male</td>\n",
       "      <td>22</td>\n",
       "      <td>USD</td>\n",
       "      <td>2621.0</td>\n",
       "      <td>failed</td>\n",
       "    </tr>\n",
       "  </tbody>\n",
       "</table>\n",
       "</div>"
      ],
      "text/plain": [
       "  category subcategory country     sex  age currency     goal   state\n",
       "0      Art         Art      US    male   26      USD  10000.0  failed\n",
       "1      Art         Art      US  female   26      USD   7500.0  failed\n",
       "2      Art         Art      US  female   28      USD  20000.0  failed\n",
       "3      Art         Art      US  female   27      USD   7800.0  failed\n",
       "4      Art         Art      US    male   22      USD   2621.0  failed"
      ]
     },
     "execution_count": 2,
     "metadata": {},
     "output_type": "execute_result"
    }
   ],
   "source": [
    "donnees_kickstarter = donnees_kickstarter.drop(['id','pledged','backers','name','start_date','end_date'],axis=1)\n",
    "donnees_kickstarter.head()"
   ]
  },
  {
   "cell_type": "markdown",
   "id": "3bd5a59c",
   "metadata": {},
   "source": [
    "### Découpage"
   ]
  },
  {
   "cell_type": "code",
   "execution_count": 3,
   "id": "02ba77a1",
   "metadata": {},
   "outputs": [],
   "source": [
    "X = donnees_kickstarter.drop('state',axis=1)\n",
    "y = donnees_kickstarter['state']"
   ]
  },
  {
   "cell_type": "code",
   "execution_count": 4,
   "id": "313444c3",
   "metadata": {},
   "outputs": [
    {
     "data": {
      "text/plain": [
       "array(['failed', 'canceled', 'successful', 'live', 'suspended',\n",
       "       'undefined'], dtype=object)"
      ]
     },
     "execution_count": 4,
     "metadata": {},
     "output_type": "execute_result"
    }
   ],
   "source": [
    "y.unique()"
   ]
  },
  {
   "cell_type": "code",
   "execution_count": 8,
   "id": "6ea9f4a5",
   "metadata": {},
   "outputs": [
    {
     "data": {
      "text/plain": [
       "array(['male', 'female', nan], dtype=object)"
      ]
     },
     "execution_count": 8,
     "metadata": {},
     "output_type": "execute_result"
    }
   ],
   "source": [
    "X['sex'].unique()"
   ]
  },
  {
   "cell_type": "code",
   "execution_count": 15,
   "id": "4187c19c",
   "metadata": {},
   "outputs": [
    {
     "data": {
      "text/plain": [
       "array(['USD', 'CAD', 'GBP', 'AUD', 'EUR', 'DKK', 'SEK', 'NOK', 'NZD',\n",
       "       'CHF'], dtype=object)"
      ]
     },
     "execution_count": 15,
     "metadata": {},
     "output_type": "execute_result"
    }
   ],
   "source": [
    "X['currency'].unique()"
   ]
  },
  {
   "cell_type": "code",
   "execution_count": 5,
   "id": "1b89a3f8",
   "metadata": {},
   "outputs": [
    {
     "data": {
      "text/plain": [
       "array(['US', 'CA', 'GB', 'AU', 'DE', 'NL', 'ES', 'DK', 'IE', 'IT', 'SE',\n",
       "       'FR', 'NO', 'NZ', 'AT', 'CH', 'BE', nan, 'LU'], dtype=object)"
      ]
     },
     "execution_count": 5,
     "metadata": {},
     "output_type": "execute_result"
    }
   ],
   "source": [
    "X['country'].unique()"
   ]
  },
  {
   "cell_type": "code",
   "execution_count": 6,
   "id": "dfb584f1",
   "metadata": {},
   "outputs": [
    {
     "data": {
      "text/plain": [
       "array(['Art', 'Comics', 'Dance', 'Design', 'Fashion', 'Food',\n",
       "       'Film & Video', 'Games', 'Journalism', 'Music', 'Photography',\n",
       "       'Technology', 'Theater', 'Publishing', 'Crafts'], dtype=object)"
      ]
     },
     "execution_count": 6,
     "metadata": {},
     "output_type": "execute_result"
    }
   ],
   "source": [
    "X['category'].unique()"
   ]
  },
  {
   "cell_type": "code",
   "execution_count": 14,
   "id": "372fbe83",
   "metadata": {},
   "outputs": [
    {
     "data": {
      "text/plain": [
       "array([18, 19, 20, 21, 22, 23, 24, 25, 26, 27, 28, 29, 30, 31, 32, 33, 34,\n",
       "       35, 36, 37, 38, 39, 40, 41, 42, 43, 44, 45, 46, 47, 48, 49, 50, 51,\n",
       "       52, 53, 54, 55, 56, 57, 58, 59, 60, 61, 62, 63, 64, 65, 66, 67, 68,\n",
       "       69, 70], dtype=int64)"
      ]
     },
     "execution_count": 14,
     "metadata": {},
     "output_type": "execute_result"
    }
   ],
   "source": [
    "age = X['age'].unique()\n",
    "age.sort()\n",
    "age"
   ]
  },
  {
   "cell_type": "code",
   "execution_count": 7,
   "id": "ca058b5e",
   "metadata": {},
   "outputs": [
    {
     "data": {
      "text/plain": [
       "array(['Art', 'Comics', 'Dance', 'Design', 'Fashion', 'Food',\n",
       "       'Film & Video', 'Games', 'Journalism', 'Music', 'Photography',\n",
       "       'Technology', 'Theater', 'Publishing', 'Conceptual Art',\n",
       "       'Digital Art', 'Illustration', 'Painting', 'Performance Art',\n",
       "       'Sculpture', 'Crafts', 'Graphic Design', 'Product Design',\n",
       "       'Animation', 'Documentary', 'Narrative Film', 'Shorts',\n",
       "       'Webseries', 'Tabletop Games', 'Video Games', 'Classical Music',\n",
       "       'Country & Folk', 'Electronic Music', 'Hip-Hop', 'Indie Rock',\n",
       "       'Jazz', 'Pop', 'Rock', 'World Music', 'Art Books',\n",
       "       \"Children's Books\", 'Fiction', 'Nonfiction', 'Periodicals',\n",
       "       'Poetry', 'Software', 'Hardware', 'Public Art', 'Mixed Media',\n",
       "       'Radio & Podcasts', 'Metal', 'Anthologies', 'Comic Books',\n",
       "       'Events', 'Graphic Novels', 'Webcomics', 'Performances',\n",
       "       'Residencies', 'Spaces', 'Workshops', 'Architecture',\n",
       "       'Civic Design', 'Interactive Design', 'Typography', 'Accessories',\n",
       "       'Apparel', 'Childrenswear', 'Couture', 'Footwear', 'Jewelry',\n",
       "       'Pet Fashion', 'Ready-to-wear', 'Gaming Hardware', 'Live Games',\n",
       "       'Mobile Games', 'Playing Cards', 'Puzzles', 'Animals', 'Fine Art',\n",
       "       'Nature', 'People', 'Places', 'Photobooks', 'Experimental',\n",
       "       'Festivals', 'Immersive', 'Musical', 'Plays', 'Ceramics',\n",
       "       'Installations', 'Textiles', 'Video Art', 'Action', 'Comedy',\n",
       "       'Drama', 'Fantasy', 'Horror', 'Movie Theaters', 'Music Videos',\n",
       "       'Romance', 'Science Fiction', 'Thrillers', 'Television', 'Bacon',\n",
       "       'Community Gardens', 'Cookbooks', 'Drinks', 'Farms',\n",
       "       \"Farmer's Markets\", 'Food Trucks', 'Restaurants', 'Small Batch',\n",
       "       'Vegan', 'Blues', 'Chiptune', 'Faith', 'Kids', 'Latin', 'Punk',\n",
       "       'R&B', 'Academic', 'Calendars', 'Literary Journals',\n",
       "       'Translations', 'Young Adult', 'Zines', 'Family', '3D Printing',\n",
       "       'Apps', 'Camera Equipment', 'DIY Electronics', 'Fabrication Tools',\n",
       "       'Flight', 'Gadgets', 'Robots', 'Sound', 'Space Exploration',\n",
       "       'Wearables', 'Web', 'Candles', 'Crochet', 'DIY', 'Embroidery',\n",
       "       'Glass', 'Knitting', 'Letterpress', 'Pottery', 'Printing',\n",
       "       'Quilts', 'Stationery', 'Taxidermy', 'Weaving', 'Woodworking',\n",
       "       'Audio', 'Photo', 'Print', 'Video', 'Makerspaces'], dtype=object)"
      ]
     },
     "execution_count": 7,
     "metadata": {},
     "output_type": "execute_result"
    }
   ],
   "source": [
    "X['subcategory'].unique()"
   ]
  },
  {
   "cell_type": "code",
   "execution_count": null,
   "id": "51bfdae4",
   "metadata": {},
   "outputs": [],
   "source": []
  },
  {
   "cell_type": "code",
   "execution_count": null,
   "id": "c07e53c3",
   "metadata": {},
   "outputs": [],
   "source": []
  },
  {
   "cell_type": "markdown",
   "id": "f1d180bf",
   "metadata": {},
   "source": [
    "## 4-2) Pipeline"
   ]
  },
  {
   "cell_type": "code",
   "execution_count": 25,
   "id": "0758df91",
   "metadata": {},
   "outputs": [],
   "source": [
    "def preprocess_data(data):\n",
    "    # Supprimer les colonnes non nécessaires\n",
    "    data = data.drop(['id','pledged','backers','name','start_date','end_date'], axis=1)\n",
    "    \n",
    "    # Séparer les features (X) de la cible (y)\n",
    "    X = data.drop('state', axis=1)\n",
    "    y = data['state']\n",
    "    \n",
    "    # Liste des attributs numériques et catégoriels\n",
    "    numeric_features = ['age', 'goal']\n",
    "    categorical_features = ['category','subcategory', 'country', 'sex', 'currency']\n",
    "    \n",
    "    # Prétraitement des attributs\n",
    "    numeric_transformer = Pipeline(steps=[\n",
    "        ('scaler', StandardScaler())\n",
    "    ])\n",
    "\n",
    "    categorical_transformer = Pipeline(steps=[\n",
    "        ('onehot', OneHotEncoder(handle_unknown='ignore'))\n",
    "    ])\n",
    "\n",
    "    preprocessor = ColumnTransformer(\n",
    "        transformers=[\n",
    "            ('num', numeric_transformer, numeric_features),\n",
    "            ('cat', categorical_transformer, categorical_features)\n",
    "        ])\n",
    "\n",
    "    # Appliquer le prétraitement\n",
    "    X_preprocessed = preprocessor.fit_transform(X)\n",
    "\n",
    "    return X_preprocessed, y"
   ]
  },
  {
   "cell_type": "code",
   "execution_count": 26,
   "id": "f3a2a6b7",
   "metadata": {},
   "outputs": [],
   "source": [
    "def train_models(X_train, y_train):\n",
    "    # Modèles et pipelines\n",
    "    svm_classifier = Pipeline(steps=[\n",
    "        ('classifier', SVC())\n",
    "    ])\n",
    "\n",
    "    knn_classifier = Pipeline(steps=[\n",
    "        ('classifier', KNeighborsClassifier())\n",
    "    ])\n",
    "\n",
    "    nb_classifier = Pipeline(steps=[\n",
    "        ('classifier', GaussianNB())\n",
    "    ])\n",
    "\n",
    "    rf_classifier = Pipeline(steps=[\n",
    "        ('classifier', RandomForestClassifier(random_state=42))\n",
    "    ])\n",
    "\n",
    "    # Grilles d'hyperparamètres pour la recherche\n",
    "    svm_param_grid = {'classifier__C': [0.1, 1, 10],\n",
    "                      'classifier__kernel': ['linear', 'rbf']}\n",
    "\n",
    "    knn_param_grid = {'classifier__n_neighbors': [3, 5, 7]}\n",
    "\n",
    "    rf_param_grid = {'classifier__n_estimators': [50, 100, 150],\n",
    "                     'classifier__max_depth': [None, 10, 20]}\n",
    "\n",
    "    # Utilisation de GridSearchCV pour la recherche des hyperparamètres\n",
    "    print(\"Recherche des hyperparamètres (SVM)...\")\n",
    "    svm_grid = GridSearchCV(svm_classifier, svm_param_grid, cv=5)\n",
    "    svm_grid.fit(X_train, y_train)\n",
    "    print(\"Recherche terminée.\")\n",
    "\n",
    "    print(\"Recherche des hyperparamètres (k-NN)...\")\n",
    "    knn_grid = GridSearchCV(knn_classifier, knn_param_grid, cv=5)\n",
    "    knn_grid.fit(X_train, y_train)\n",
    "    print(\"Recherche terminée.\")\n",
    "\n",
    "    print(\"Recherche des hyperparamètres (Random Forest)...\")\n",
    "    rf_grid = GridSearchCV(rf_classifier, rf_param_grid, cv=5)\n",
    "    rf_grid.fit(X_train, y_train)\n",
    "    print(\"Recherche terminée.\")\n",
    "\n",
    "    return svm_grid.best_estimator_, knn_grid.best_estimator_, nb_classifier.fit(X_train, y_train), rf_grid.best_estimator_"
   ]
  },
  {
   "cell_type": "code",
   "execution_count": 27,
   "id": "e1aab09c",
   "metadata": {},
   "outputs": [],
   "source": [
    "def evaluate_models(classifiers, X_valid, y_valid):\n",
    "    for name, classifier in classifiers.items():\n",
    "        y_pred = classifier.predict(X_valid)\n",
    "        print(f\"Rapport de classification ({name}):\")\n",
    "        print(classification_report(y_valid, y_pred))"
   ]
  },
  {
   "cell_type": "code",
   "execution_count": null,
   "id": "bdb1a3a2",
   "metadata": {},
   "outputs": [
    {
     "name": "stdout",
     "output_type": "stream",
     "text": [
      "Recherche des hyperparamètres (SVM)...\n"
     ]
    }
   ],
   "source": [
    "def main():\n",
    "    # Charger les données\n",
    "    donnees_kickstarter = pd.read_csv('donnees_kickstarter/ks-projects.csv',delimiter=',',encoding='latin1')\n",
    "\n",
    "    # Appliquer le prétraitement une seule fois\n",
    "    X_preprocessed, y = preprocess_data(donnees_kickstarter)\n",
    "\n",
    "    # Diviser les données en ensembles d'entraînement, de validation et de test\n",
    "    X_train, X_temp, y_train, y_temp = train_test_split(X_preprocessed, y, test_size=0.3, random_state=42)\n",
    "    X_valid, X_test, y_valid, y_test = train_test_split(X_temp, y_temp, test_size=0.5, random_state=42)\n",
    "    \n",
    "    # Entraîner les modèles\n",
    "    classifiers = train_models(X_train, y_train)\n",
    "    \n",
    "    # Évaluer les modèles sur les données de validation\n",
    "    evaluate_models({'SVM': classifiers[0], 'k-NN': classifiers[1], 'Naive Bayes': classifiers[2], 'Random Forest': classifiers[3]}, X_valid, y_valid)\n",
    "\n",
    "    # Évaluer les modèles sur les données de test\n",
    "    print(\"Évaluation finale sur les données de test:\")\n",
    "    evaluate_models({'SVM': classifiers[0], 'k-NN': classifiers[1], 'Naive Bayes': classifiers[2], 'Random Forest': classifiers[3]}, X_test, y_test)\n",
    "\n",
    "if __name__ == \"__main__\":\n",
    "    main()"
   ]
  },
  {
   "cell_type": "code",
   "execution_count": null,
   "id": "b8c67de8",
   "metadata": {},
   "outputs": [],
   "source": []
  },
  {
   "cell_type": "code",
   "execution_count": null,
   "id": "c4130410",
   "metadata": {},
   "outputs": [],
   "source": []
  },
  {
   "cell_type": "code",
   "execution_count": null,
   "id": "bbebdc9c",
   "metadata": {},
   "outputs": [],
   "source": []
  }
 ],
 "metadata": {
  "kernelspec": {
   "display_name": "Python 3 (ipykernel)",
   "language": "python",
   "name": "python3"
  },
  "language_info": {
   "codemirror_mode": {
    "name": "ipython",
    "version": 3
   },
   "file_extension": ".py",
   "mimetype": "text/x-python",
   "name": "python",
   "nbconvert_exporter": "python",
   "pygments_lexer": "ipython3",
   "version": "3.11.1"
  }
 },
 "nbformat": 4,
 "nbformat_minor": 5
}
